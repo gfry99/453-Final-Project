{
 "cells": [
  {
   "cell_type": "markdown",
   "id": "7abf252b",
   "metadata": {},
   "source": [
    "# CSCI 453 \"Please Compile\" Final Project"
   ]
  },
  {
   "cell_type": "markdown",
   "id": "cd10406e",
   "metadata": {},
   "source": [
    "### Logan Zug, Ben Alrbright, Gavin Fry"
   ]
  },
  {
   "cell_type": "code",
   "execution_count": 1,
   "id": "962b370f",
   "metadata": {},
   "outputs": [],
   "source": [
    "# Start with all of the includes we'll need for the project..."
   ]
  },
  {
   "cell_type": "code",
   "execution_count": 2,
   "id": "d57e340a",
   "metadata": {},
   "outputs": [],
   "source": [
    "import pandas as pd\n",
    "import numpy as np\n",
    "import matplotlib.pyplot as plt\n",
    "from sklearn.cluster import KMeans\n",
    "from sklearn.decomposition import PCA\n",
    "from sklearn.preprocessing import MinMaxScaler\n",
    "import seaborn as sns\n",
    "import matplotlib as mpl\n",
    "from sklearn.preprocessing import MinMaxScaler\n",
    "from scipy import stats\n",
    "from sklearn.preprocessing import LabelEncoder"
   ]
  },
  {
   "cell_type": "code",
   "execution_count": 3,
   "id": "fa045af9",
   "metadata": {},
   "outputs": [],
   "source": [
    "# Begin..."
   ]
  },
  {
   "cell_type": "code",
   "execution_count": 4,
   "id": "49ce9070",
   "metadata": {},
   "outputs": [],
   "source": [
    "df = pd.read_csv(\"reviews.csv\")"
   ]
  },
  {
   "cell_type": "code",
   "execution_count": 5,
   "id": "698dca9a",
   "metadata": {},
   "outputs": [],
   "source": [
    "df.drop(['unix_timestamp_created', 'unix_timestamp_updated'], axis=1, inplace=True)\n",
    "df.dropna(inplace=True)"
   ]
  },
  {
   "cell_type": "code",
   "execution_count": 6,
   "id": "4a7d6b6d",
   "metadata": {},
   "outputs": [],
   "source": [
    "df.rename(columns={'weighted_vote_score': 'helpful_score', 'voted_up': 'is_recommended', 'votes_up': 'upvotes'}, inplace=True)"
   ]
  },
  {
   "cell_type": "code",
   "execution_count": 7,
   "id": "eefd5073",
   "metadata": {
    "scrolled": true
   },
   "outputs": [
    {
     "name": "stdout",
     "output_type": "stream",
     "text": [
      "<class 'pandas.core.frame.DataFrame'>\n",
      "Int64Index: 1452657 entries, 0 to 1455441\n",
      "Data columns (total 11 columns):\n",
      " #   Column              Non-Null Count    Dtype  \n",
      "---  ------              --------------    -----  \n",
      " 0   steamid             1452657 non-null  int64  \n",
      " 1   appid               1452657 non-null  int64  \n",
      " 2   is_recommended      1452657 non-null  bool   \n",
      " 3   upvotes             1452657 non-null  int64  \n",
      " 4   votes_funny         1452657 non-null  int64  \n",
      " 5   helpful_score       1452657 non-null  float64\n",
      " 6   playtime_forever    1452657 non-null  int64  \n",
      " 7   playtime_at_review  1452657 non-null  int64  \n",
      " 8   num_games_owned     1452657 non-null  int64  \n",
      " 9   num_reviews         1452657 non-null  int64  \n",
      " 10  review              1452657 non-null  object \n",
      "dtypes: bool(1), float64(1), int64(8), object(1)\n",
      "memory usage: 123.3+ MB\n"
     ]
    }
   ],
   "source": [
    "df.info()"
   ]
  },
  {
   "cell_type": "markdown",
   "id": "3a6d0d00",
   "metadata": {},
   "source": [
    "# Gavin"
   ]
  },
  {
   "cell_type": "code",
   "execution_count": 8,
   "id": "1c971af2",
   "metadata": {
    "scrolled": false
   },
   "outputs": [
    {
     "data": {
      "text/html": [
       "<div>\n",
       "<style scoped>\n",
       "    .dataframe tbody tr th:only-of-type {\n",
       "        vertical-align: middle;\n",
       "    }\n",
       "\n",
       "    .dataframe tbody tr th {\n",
       "        vertical-align: top;\n",
       "    }\n",
       "\n",
       "    .dataframe thead th {\n",
       "        text-align: right;\n",
       "    }\n",
       "</style>\n",
       "<table border=\"1\" class=\"dataframe\">\n",
       "  <thead>\n",
       "    <tr style=\"text-align: right;\">\n",
       "      <th></th>\n",
       "      <th>steamid</th>\n",
       "      <th>appid</th>\n",
       "      <th>is_recommended</th>\n",
       "      <th>upvotes</th>\n",
       "      <th>votes_funny</th>\n",
       "      <th>helpful_score</th>\n",
       "      <th>playtime_forever</th>\n",
       "      <th>playtime_at_review</th>\n",
       "      <th>num_games_owned</th>\n",
       "      <th>num_reviews</th>\n",
       "      <th>review</th>\n",
       "    </tr>\n",
       "  </thead>\n",
       "  <tbody>\n",
       "    <tr>\n",
       "      <th>0</th>\n",
       "      <td>76561198795470246</td>\n",
       "      <td>599080</td>\n",
       "      <td>True</td>\n",
       "      <td>1</td>\n",
       "      <td>0</td>\n",
       "      <td>0.52381</td>\n",
       "      <td>400</td>\n",
       "      <td>400</td>\n",
       "      <td>230</td>\n",
       "      <td>2</td>\n",
       "      <td>Minus the quiet communication (other players s...</td>\n",
       "    </tr>\n",
       "    <tr>\n",
       "      <th>1</th>\n",
       "      <td>76561199026616351</td>\n",
       "      <td>599080</td>\n",
       "      <td>True</td>\n",
       "      <td>0</td>\n",
       "      <td>0</td>\n",
       "      <td>0.00000</td>\n",
       "      <td>745</td>\n",
       "      <td>192</td>\n",
       "      <td>19</td>\n",
       "      <td>8</td>\n",
       "      <td>yeah.</td>\n",
       "    </tr>\n",
       "    <tr>\n",
       "      <th>2</th>\n",
       "      <td>76561198259829110</td>\n",
       "      <td>599080</td>\n",
       "      <td>True</td>\n",
       "      <td>0</td>\n",
       "      <td>0</td>\n",
       "      <td>0.00000</td>\n",
       "      <td>1572</td>\n",
       "      <td>1572</td>\n",
       "      <td>50</td>\n",
       "      <td>4</td>\n",
       "      <td>Playing this game was the most fun I have ever...</td>\n",
       "    </tr>\n",
       "    <tr>\n",
       "      <th>3</th>\n",
       "      <td>76561198123742442</td>\n",
       "      <td>599080</td>\n",
       "      <td>True</td>\n",
       "      <td>0</td>\n",
       "      <td>0</td>\n",
       "      <td>0.00000</td>\n",
       "      <td>3684</td>\n",
       "      <td>2001</td>\n",
       "      <td>119</td>\n",
       "      <td>1</td>\n",
       "      <td>I love the interactive lore and story telling</td>\n",
       "    </tr>\n",
       "    <tr>\n",
       "      <th>4</th>\n",
       "      <td>76561198998908891</td>\n",
       "      <td>599080</td>\n",
       "      <td>True</td>\n",
       "      <td>0</td>\n",
       "      <td>0</td>\n",
       "      <td>0.00000</td>\n",
       "      <td>249</td>\n",
       "      <td>249</td>\n",
       "      <td>31</td>\n",
       "      <td>10</td>\n",
       "      <td>gg</td>\n",
       "    </tr>\n",
       "  </tbody>\n",
       "</table>\n",
       "</div>"
      ],
      "text/plain": [
       "             steamid   appid  is_recommended  upvotes  votes_funny  \\\n",
       "0  76561198795470246  599080            True        1            0   \n",
       "1  76561199026616351  599080            True        0            0   \n",
       "2  76561198259829110  599080            True        0            0   \n",
       "3  76561198123742442  599080            True        0            0   \n",
       "4  76561198998908891  599080            True        0            0   \n",
       "\n",
       "   helpful_score  playtime_forever  playtime_at_review  num_games_owned  \\\n",
       "0        0.52381               400                 400              230   \n",
       "1        0.00000               745                 192               19   \n",
       "2        0.00000              1572                1572               50   \n",
       "3        0.00000              3684                2001              119   \n",
       "4        0.00000               249                 249               31   \n",
       "\n",
       "   num_reviews                                             review  \n",
       "0            2  Minus the quiet communication (other players s...  \n",
       "1            8                                              yeah.  \n",
       "2            4  Playing this game was the most fun I have ever...  \n",
       "3            1      I love the interactive lore and story telling  \n",
       "4           10                                                 gg  "
      ]
     },
     "execution_count": 8,
     "metadata": {},
     "output_type": "execute_result"
    }
   ],
   "source": [
    "df.head()"
   ]
  },
  {
   "cell_type": "markdown",
   "id": "266eb12e",
   "metadata": {},
   "source": [
    "## Feature-Scaling"
   ]
  },
  {
   "cell_type": "code",
   "execution_count": 56,
   "id": "5e646ea4",
   "metadata": {},
   "outputs": [],
   "source": [
    "# Set df2 = df1 and clean up outliers\n",
    "df2 = df\n",
    "\n",
    "# Take a sample of 5000 reviews with a random seed 1...\n",
    "data = df2.sample(n=50, random_state = 1, replace = False)\n",
    "\n",
    "# Instantiate the Label Encoder Object\n",
    "label_encoder = LabelEncoder()\n",
    "\n",
    "# Fit and transform the column\n",
    "data['Individual'] = label_encoder.fit_transform(data['steamid'])\n",
    "\n",
    "# Initialize scaler\n",
    "min_max_scaler = MinMaxScaler()\n",
    "\n",
    "# Put playtime_forever and playtime_at_review through the min_max_scaler to transforrm\n",
    "data[['playtime_forever', 'playtime_at_review']] = min_max_scaler.fit_transform(data[['playtime_forever', 'playtime_at_review']])\n",
    "\n",
    "# Multiply by 100 to get it as a percentage\n",
    "data[['playtime_forever', 'playtime_at_review']] = 100 * data[['playtime_forever', 'playtime_at_review']]"
   ]
  },
  {
   "cell_type": "code",
   "execution_count": 57,
   "id": "e36877be",
   "metadata": {},
   "outputs": [
    {
     "data": {
      "text/html": [
       "<div>\n",
       "<style scoped>\n",
       "    .dataframe tbody tr th:only-of-type {\n",
       "        vertical-align: middle;\n",
       "    }\n",
       "\n",
       "    .dataframe tbody tr th {\n",
       "        vertical-align: top;\n",
       "    }\n",
       "\n",
       "    .dataframe thead th {\n",
       "        text-align: right;\n",
       "    }\n",
       "</style>\n",
       "<table border=\"1\" class=\"dataframe\">\n",
       "  <thead>\n",
       "    <tr style=\"text-align: right;\">\n",
       "      <th></th>\n",
       "      <th>steamid</th>\n",
       "      <th>appid</th>\n",
       "      <th>is_recommended</th>\n",
       "      <th>upvotes</th>\n",
       "      <th>votes_funny</th>\n",
       "      <th>helpful_score</th>\n",
       "      <th>playtime_forever</th>\n",
       "      <th>playtime_at_review</th>\n",
       "      <th>num_games_owned</th>\n",
       "      <th>num_reviews</th>\n",
       "      <th>review</th>\n",
       "      <th>Individual</th>\n",
       "    </tr>\n",
       "  </thead>\n",
       "  <tbody>\n",
       "    <tr>\n",
       "      <th>793671</th>\n",
       "      <td>76561198390790543</td>\n",
       "      <td>702890</td>\n",
       "      <td>True</td>\n",
       "      <td>1</td>\n",
       "      <td>0</td>\n",
       "      <td>0.523810</td>\n",
       "      <td>12.027606</td>\n",
       "      <td>0.714848</td>\n",
       "      <td>13</td>\n",
       "      <td>15</td>\n",
       "      <td>This game very good. Epic Animation and BGM.</td>\n",
       "      <td>36</td>\n",
       "    </tr>\n",
       "    <tr>\n",
       "      <th>656897</th>\n",
       "      <td>76561198088070696</td>\n",
       "      <td>674020</td>\n",
       "      <td>False</td>\n",
       "      <td>3</td>\n",
       "      <td>0</td>\n",
       "      <td>0.527027</td>\n",
       "      <td>0.037725</td>\n",
       "      <td>0.055745</td>\n",
       "      <td>37</td>\n",
       "      <td>1</td>\n",
       "      <td>I just payed 28 dollars to sit in the main men...</td>\n",
       "      <td>17</td>\n",
       "    </tr>\n",
       "    <tr>\n",
       "      <th>582005</th>\n",
       "      <td>76561198058804757</td>\n",
       "      <td>653530</td>\n",
       "      <td>True</td>\n",
       "      <td>0</td>\n",
       "      <td>0</td>\n",
       "      <td>0.000000</td>\n",
       "      <td>2.678472</td>\n",
       "      <td>3.957896</td>\n",
       "      <td>136</td>\n",
       "      <td>11</td>\n",
       "      <td>What a videogame</td>\n",
       "      <td>10</td>\n",
       "    </tr>\n",
       "    <tr>\n",
       "      <th>815350</th>\n",
       "      <td>76561198007480123</td>\n",
       "      <td>712100</td>\n",
       "      <td>False</td>\n",
       "      <td>1</td>\n",
       "      <td>0</td>\n",
       "      <td>0.495679</td>\n",
       "      <td>7.476200</td>\n",
       "      <td>11.047350</td>\n",
       "      <td>91</td>\n",
       "      <td>3</td>\n",
       "      <td>I'm an old gamer from the 90s when computers f...</td>\n",
       "      <td>3</td>\n",
       "    </tr>\n",
       "    <tr>\n",
       "      <th>1356437</th>\n",
       "      <td>76561198050928417</td>\n",
       "      <td>955900</td>\n",
       "      <td>True</td>\n",
       "      <td>1</td>\n",
       "      <td>0</td>\n",
       "      <td>0.000000</td>\n",
       "      <td>4.125336</td>\n",
       "      <td>5.220357</td>\n",
       "      <td>62</td>\n",
       "      <td>1</td>\n",
       "      <td>Highly entertaining and makes time fly by. Hav...</td>\n",
       "      <td>8</td>\n",
       "    </tr>\n",
       "  </tbody>\n",
       "</table>\n",
       "</div>"
      ],
      "text/plain": [
       "                   steamid   appid  is_recommended  upvotes  votes_funny  \\\n",
       "793671   76561198390790543  702890            True        1            0   \n",
       "656897   76561198088070696  674020           False        3            0   \n",
       "582005   76561198058804757  653530            True        0            0   \n",
       "815350   76561198007480123  712100           False        1            0   \n",
       "1356437  76561198050928417  955900            True        1            0   \n",
       "\n",
       "         helpful_score  playtime_forever  playtime_at_review  num_games_owned  \\\n",
       "793671        0.523810         12.027606            0.714848               13   \n",
       "656897        0.527027          0.037725            0.055745               37   \n",
       "582005        0.000000          2.678472            3.957896              136   \n",
       "815350        0.495679          7.476200           11.047350               91   \n",
       "1356437       0.000000          4.125336            5.220357               62   \n",
       "\n",
       "         num_reviews                                             review  \\\n",
       "793671            15       This game very good. Epic Animation and BGM.   \n",
       "656897             1  I just payed 28 dollars to sit in the main men...   \n",
       "582005            11                                   What a videogame   \n",
       "815350             3  I'm an old gamer from the 90s when computers f...   \n",
       "1356437            1  Highly entertaining and makes time fly by. Hav...   \n",
       "\n",
       "         Individual  \n",
       "793671           36  \n",
       "656897           17  \n",
       "582005           10  \n",
       "815350            3  \n",
       "1356437           8  "
      ]
     },
     "execution_count": 57,
     "metadata": {},
     "output_type": "execute_result"
    }
   ],
   "source": [
    "data.head()"
   ]
  },
  {
   "cell_type": "code",
   "execution_count": 59,
   "id": "f99625b2",
   "metadata": {},
   "outputs": [
    {
     "data": {
      "image/png": "[encoded data removed]",
      "text/plain": [
       "<Figure size 1476x756 with 1 Axes>"
      ]
     },
     "metadata": {
      "needs_background": "light"
     },
     "output_type": "display_data"
    }
   ],
   "source": [
    "labels = data.Individual\n",
    "\n",
    "x = np.arange(len(labels))  # the label locations\n",
    "width = 0.35  # the width of the bars\n",
    "\n",
    "fig, ax = plt.subplots()\n",
    "rects1 = ax.bar(x - width/2, data.playtime_at_review, width, label='Playtime At Review')\n",
    "rects2 = ax.bar(x + width/2, data.playtime_forever, width, label='Playtime Forever')\n",
    "\n",
    "# Add some text for labels, title and custom x-axis tick labels, etc.\n",
    "ax.set_ylabel('Playtime')\n",
    "ax.set_xlabel('User')\n",
    "ax.set_title('Playtime at Review vs Playtime Forever')\n",
    "ax.legend()\n",
    "\n",
    "fig.tight_layout()\n",
    "fig.set_size_inches(20.5, 10.5)\n",
    "\n",
    "plt.show()"
   ]
  },
  {
   "cell_type": "markdown",
   "id": "5b4de53f",
   "metadata": {},
   "source": [
    "## Clustering"
   ]
  },
  {
   "cell_type": "code",
   "execution_count": 12,
   "id": "5296de4f",
   "metadata": {
    "scrolled": true
   },
   "outputs": [],
   "source": [
    "# Take the two columns we want from OG df...\n",
    "df2 = df[[\"votes_funny\", \"helpful_score\"]]\n",
    "\n",
    "# Drop 0's\n",
    "df2= df2[df2['votes_funny'] != 0]\n",
    "df2= df2[df2['helpful_score'] != 0]\n",
    "\n",
    "# Take a sample of 5000 reviews with a random seed 1...\n",
    "data = df2.sample(n=5000, random_state = 1, replace = False)\n",
    "\n",
    "# Determine the lower and upper range for votes_funny\n",
    "q_lowFunny = data[\"votes_funny\"].quantile(0.10)\n",
    "q_hiFunny  = data[\"votes_funny\"].quantile(0.90)\n",
    "\n",
    "# Determine the lower and upper range for helpful....\n",
    "q_lowHelpful = data[\"helpful_score\"].quantile(0.10)\n",
    "q_hiHelpful  = data[\"helpful_score\"].quantile(0.90)\n",
    "\n",
    "# Take the previously determined lower and upper and use them to filter the data into a new \n",
    "df_filtered = data[(data[\"votes_funny\"] < q_hiFunny) & (data[\"votes_funny\"] > q_lowFunny)]\n",
    "df_filtered = data[(data[\"helpful_score\"] < q_hiHelpful) & (data[\"helpful_score\"] > q_lowHelpful)]\n",
    "\n",
    "# Define number of clusters\n",
    "num_clusters = 10\n",
    " \n",
    "# Creating instance of PCA and transforming the data from df_filtered to fit PCA\n",
    "pca = PCA()\n",
    "data_pca = pca.fit_transform(df_filtered)\n",
    "\n",
    "# Creating the PC columns within pca_df for use in clustering\n",
    "pca_df = pd.DataFrame(data_pca,columns=['PC1','PC2'])\n",
    "\n",
    "# Create and fit the KMeans model\n",
    "km = KMeans(n_clusters=num_clusters)\n",
    "km.fit(df_filtered)\n",
    " \n",
    "# Predict the target variable\n",
    "pred=km.predict(df_filtered)"
   ]
  },
  {
   "cell_type": "code",
   "execution_count": 13,
   "id": "c63debf4",
   "metadata": {
    "scrolled": true
   },
   "outputs": [
    {
     "data": {
      "image/png": "[encoded data removed]",
      "text/plain": [
       "<Figure size 1080x360 with 1 Axes>"
      ]
     },
     "metadata": {
      "needs_background": "light"
     },
     "output_type": "display_data"
    }
   ],
   "source": [
    "# Plot the Clusters\n",
    "plt.figure(figsize=(15,5))\n",
    "plt.scatter(pca_df.PC1, pca_df.PC2, c=pred, cmap = 'Dark2')\n",
    "# Set title of the plot \n",
    "plt.title('Steam Reviews')\n",
    "# Set x-axis label\n",
    "plt.xlabel('Votes Funny')\n",
    "# Set y-axis label\n",
    "plt.ylabel('Helpful Score')\n",
    "# Display the plot\n",
    "plt.show()"
   ]
  },
  {
   "cell_type": "code",
   "execution_count": null,
   "id": "4023e96d",
   "metadata": {},
   "outputs": [],
   "source": []
  }
 ],
 "metadata": {
  "kernelspec": {
   "display_name": "Python 3 (ipykernel)",
   "language": "python",
   "name": "python3"
  },
  "language_info": {
   "codemirror_mode": {
    "name": "ipython",
    "version": 3
   },
   "file_extension": ".py",
   "mimetype": "text/x-python",
   "name": "python",
   "nbconvert_exporter": "python",
   "pygments_lexer": "ipython3",
   "version": "3.9.7"
  }
 },
 "nbformat": 4,
 "nbformat_minor": 5
}

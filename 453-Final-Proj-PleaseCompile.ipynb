{
 "cells": [
  {
   "cell_type": "markdown",
   "id": "7abf252b",
   "metadata": {},
   "source": [
    "# CSCI 453 \"Please Compile\" Final Project"
   ]
  },
  {
   "cell_type": "markdown",
   "id": "cd10406e",
   "metadata": {},
   "source": [
    "### Logan Zug, Ben Alrbright, Gavin Fry"
   ]
  },
  {
   "cell_type": "code",
   "execution_count": 1,
   "id": "962b370f",
   "metadata": {},
   "outputs": [],
   "source": [
    "# Start with all of the includes we'll need for the project..."
   ]
  },
  {
   "cell_type": "code",
   "execution_count": 7,
   "id": "d57e340a",
   "metadata": {},
   "outputs": [],
   "source": [
    "from sklearn.decomposition import PCA\n",
    "import matplotlib.pyplot as plt\n",
    "import seaborn as sns\n",
    "import pandas as pd\n",
    "import numpy as np"
   ]
  },
  {
   "cell_type": "code",
   "execution_count": 8,
   "id": "fa045af9",
   "metadata": {},
   "outputs": [],
   "source": [
    "# Begin..."
   ]
  },
  {
   "cell_type": "code",
   "execution_count": 9,
   "id": "49ce9070",
   "metadata": {},
   "outputs": [],
   "source": [
    "df = pd.read_csv(\"reviews.csv\")"
   ]
  },
  {
   "cell_type": "code",
   "execution_count": 10,
   "id": "698dca9a",
   "metadata": {},
   "outputs": [],
   "source": [
    "df.drop(['unix_timestamp_created', 'unix_timestamp_updated'], axis=1, inplace=True)\n",
    "df.dropna(inplace=True)"
   ]
  },
  {
   "cell_type": "code",
   "execution_count": 11,
   "id": "4a7d6b6d",
   "metadata": {},
   "outputs": [],
   "source": [
    "df.rename(columns={'weighted_vote_score': 'helpful_score', 'voted_up': 'is_recommended', 'votes_up': 'upvotes'}, inplace=True)"
   ]
  },
  {
   "cell_type": "code",
   "execution_count": 12,
   "id": "eefd5073",
   "metadata": {},
   "outputs": [
    {
     "name": "stdout",
     "output_type": "stream",
     "text": [
      "<class 'pandas.core.frame.DataFrame'>\n",
      "Int64Index: 1452657 entries, 0 to 1455441\n",
      "Data columns (total 11 columns):\n",
      " #   Column              Non-Null Count    Dtype  \n",
      "---  ------              --------------    -----  \n",
      " 0   steamid             1452657 non-null  int64  \n",
      " 1   appid               1452657 non-null  int64  \n",
      " 2   is_recommended      1452657 non-null  bool   \n",
      " 3   upvotes             1452657 non-null  int64  \n",
      " 4   votes_funny         1452657 non-null  int64  \n",
      " 5   helpful_score       1452657 non-null  float64\n",
      " 6   playtime_forever    1452657 non-null  int64  \n",
      " 7   playtime_at_review  1452657 non-null  int64  \n",
      " 8   num_games_owned     1452657 non-null  int64  \n",
      " 9   num_reviews         1452657 non-null  int64  \n",
      " 10  review              1452657 non-null  object \n",
      "dtypes: bool(1), float64(1), int64(8), object(1)\n",
      "memory usage: 123.3+ MB\n"
     ]
    }
   ],
   "source": [
    "df.info()"
   ]
  },
  {
   "cell_type": "markdown",
   "id": "78069a35",
   "metadata": {},
   "source": [
    "# Ben"
   ]
  },
  {
   "cell_type": "markdown",
   "id": "6fa13b4f",
   "metadata": {},
   "source": [
    "Graphs"
   ]
  },
  {
   "cell_type": "code",
   "execution_count": null,
   "id": "471f3637",
   "metadata": {},
   "outputs": [],
   "source": [
    "#Playtime x isRecommended\n",
    "#num games owned x helpfulness of review\n",
    "#num reviews x helpfulness of review"
   ]
  },
  {
   "cell_type": "markdown",
   "id": "2a181cbd",
   "metadata": {},
   "source": [
    "PCA\n"
   ]
  },
  {
   "cell_type": "code",
   "execution_count": 13,
   "id": "26b2177d",
   "metadata": {},
   "outputs": [
    {
     "ename": "NameError",
     "evalue": "name 'filtered_df' is not defined",
     "output_type": "error",
     "traceback": [
      "\u001b[0;31m---------------------------------------------------------------------------\u001b[0m",
      "\u001b[0;31mNameError\u001b[0m                                 Traceback (most recent call last)",
      "\u001b[0;32m/var/folders/qx/plbymthn3ll70xs0g_90_5rh0000gn/T/ipykernel_35026/235367462.py\u001b[0m in \u001b[0;36m<module>\u001b[0;34m\u001b[0m\n\u001b[1;32m      1\u001b[0m \u001b[0mpca\u001b[0m \u001b[0;34m=\u001b[0m \u001b[0mPCA\u001b[0m\u001b[0;34m(\u001b[0m\u001b[0;34m)\u001b[0m\u001b[0;34m\u001b[0m\u001b[0;34m\u001b[0m\u001b[0m\n\u001b[0;32m----> 2\u001b[0;31m \u001b[0mdata_pca\u001b[0m \u001b[0;34m=\u001b[0m \u001b[0mpca\u001b[0m\u001b[0;34m.\u001b[0m\u001b[0mfit_transform\u001b[0m\u001b[0;34m(\u001b[0m\u001b[0mfiltered_df\u001b[0m\u001b[0;34m)\u001b[0m \u001b[0;31m#<--filtered_df contains the columns to cluster!\u001b[0m\u001b[0;34m\u001b[0m\u001b[0;34m\u001b[0m\u001b[0m\n\u001b[0m\u001b[1;32m      3\u001b[0m \u001b[0;34m\u001b[0m\u001b[0m\n\u001b[1;32m      4\u001b[0m \u001b[0mpca_df\u001b[0m \u001b[0;34m=\u001b[0m \u001b[0mpd\u001b[0m\u001b[0;34m.\u001b[0m\u001b[0mDataFrame\u001b[0m\u001b[0;34m(\u001b[0m\u001b[0mdata_pca\u001b[0m\u001b[0;34m,\u001b[0m\u001b[0mcolumns\u001b[0m\u001b[0;34m=\u001b[0m\u001b[0;34m[\u001b[0m\u001b[0;34m'PC1'\u001b[0m\u001b[0;34m,\u001b[0m\u001b[0;34m'PC2'\u001b[0m\u001b[0;34m]\u001b[0m\u001b[0;34m)\u001b[0m\u001b[0;34m\u001b[0m\u001b[0;34m\u001b[0m\u001b[0m\n\u001b[1;32m      5\u001b[0m \u001b[0mdf\u001b[0m \u001b[0;34m=\u001b[0m \u001b[0mpd\u001b[0m\u001b[0;34m.\u001b[0m\u001b[0mmerge\u001b[0m\u001b[0;34m(\u001b[0m\u001b[0mdf\u001b[0m\u001b[0;34m,\u001b[0m \u001b[0mpca_df\u001b[0m\u001b[0;34m,\u001b[0m \u001b[0mright_index\u001b[0m\u001b[0;34m=\u001b[0m\u001b[0;32mTrue\u001b[0m\u001b[0;34m,\u001b[0m \u001b[0mleft_index\u001b[0m\u001b[0;34m=\u001b[0m\u001b[0;32mTrue\u001b[0m\u001b[0;34m)\u001b[0m\u001b[0;34m\u001b[0m\u001b[0;34m\u001b[0m\u001b[0m\n",
      "\u001b[0;31mNameError\u001b[0m: name 'filtered_df' is not defined"
     ]
    }
   ],
   "source": [
    "pca = PCA()\n",
    "data_pca = pca.fit_transform(filtered_df) #<--filtered_df contains the columns to cluster!\n",
    "\n",
    "pca_df = pd.DataFrame(data_pca,columns=['PC1','PC2'])\n",
    "df = pd.merge(df, pca_df, right_index=True, left_index=True)\n",
    "df.head()\n"
   ]
  },
  {
   "cell_type": "code",
   "execution_count": 14,
   "id": "174ace0a",
   "metadata": {},
   "outputs": [
    {
     "name": "stdout",
     "output_type": "stream",
     "text": [
      "Explained Variance Ratio\n"
     ]
    },
    {
     "ename": "AttributeError",
     "evalue": "'PCA' object has no attribute 'explained_variance_ratio_'",
     "output_type": "error",
     "traceback": [
      "\u001b[0;31m---------------------------------------------------------------------------\u001b[0m",
      "\u001b[0;31mAttributeError\u001b[0m                            Traceback (most recent call last)",
      "\u001b[0;32m/var/folders/qx/plbymthn3ll70xs0g_90_5rh0000gn/T/ipykernel_35026/1885761478.py\u001b[0m in \u001b[0;36m<module>\u001b[0;34m\u001b[0m\n\u001b[1;32m      1\u001b[0m \u001b[0mprint\u001b[0m\u001b[0;34m(\u001b[0m\u001b[0;34m'Explained Variance Ratio'\u001b[0m\u001b[0;34m)\u001b[0m\u001b[0;34m\u001b[0m\u001b[0;34m\u001b[0m\u001b[0m\n\u001b[1;32m      2\u001b[0m \u001b[0;32mfor\u001b[0m \u001b[0mi\u001b[0m \u001b[0;32min\u001b[0m \u001b[0mrange\u001b[0m\u001b[0;34m(\u001b[0m\u001b[0;36m2\u001b[0m\u001b[0;34m)\u001b[0m\u001b[0;34m:\u001b[0m\u001b[0;34m\u001b[0m\u001b[0;34m\u001b[0m\u001b[0m\n\u001b[0;32m----> 3\u001b[0;31m     \u001b[0mprint\u001b[0m\u001b[0;34m(\u001b[0m\u001b[0;34m'PC{}: {}'\u001b[0m\u001b[0;34m.\u001b[0m\u001b[0mformat\u001b[0m\u001b[0;34m(\u001b[0m\u001b[0mi\u001b[0m\u001b[0;34m+\u001b[0m\u001b[0;36m1\u001b[0m\u001b[0;34m,\u001b[0m\u001b[0mpca\u001b[0m\u001b[0;34m.\u001b[0m\u001b[0mexplained_variance_ratio_\u001b[0m\u001b[0;34m[\u001b[0m\u001b[0mi\u001b[0m\u001b[0;34m]\u001b[0m\u001b[0;34m)\u001b[0m\u001b[0;34m)\u001b[0m\u001b[0;34m\u001b[0m\u001b[0;34m\u001b[0m\u001b[0m\n\u001b[0m",
      "\u001b[0;31mAttributeError\u001b[0m: 'PCA' object has no attribute 'explained_variance_ratio_'"
     ]
    }
   ],
   "source": [
    "print('Explained Variance Ratio')\n",
    "for i in range(2):\n",
    "    print('PC{}: {}'.format(i+1,pca.explained_variance_ratio_[i]))"
   ]
  },
  {
   "cell_type": "code",
   "execution_count": null,
   "id": "9eadbcf6",
   "metadata": {},
   "outputs": [],
   "source": []
  }
 ],
 "metadata": {
  "kernelspec": {
   "display_name": "Python 3 (ipykernel)",
   "language": "python",
   "name": "python3"
  },
  "language_info": {
   "codemirror_mode": {
    "name": "ipython",
    "version": 3
   },
   "file_extension": ".py",
   "mimetype": "text/x-python",
   "name": "python",
   "nbconvert_exporter": "python",
   "pygments_lexer": "ipython3",
   "version": "3.9.7"
  }
 },
 "nbformat": 4,
 "nbformat_minor": 5
}

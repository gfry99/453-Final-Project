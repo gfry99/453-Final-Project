{
 "cells": [
  {
   "cell_type": "markdown",
   "id": "7abf252b",
   "metadata": {},
   "source": [
    "# CSCI 453 \"Please Compile\" Final Project"
   ]
  },
  {
   "cell_type": "markdown",
   "id": "cd10406e",
   "metadata": {},
   "source": [
    "### Logan Zug, Ben Alrbright, Gavin Fry"
   ]
  },
  {
   "cell_type": "code",
   "execution_count": 1,
   "id": "962b370f",
   "metadata": {},
   "outputs": [],
   "source": [
    "# Start with all of the includes we'll need for the project..."
   ]
  },
  {
   "cell_type": "code",
   "execution_count": 2,
   "id": "d57e340a",
   "metadata": {},
   "outputs": [],
   "source": [
    "import pandas as pd\n",
    "import numpy as np\n",
    "import matplotlib.pyplot as plt\n",
    "from sklearn.cluster import KMeans\n",
    "from sklearn.decomposition import PCA"
   ]
  },
  {
   "cell_type": "code",
   "execution_count": 3,
   "id": "fa045af9",
   "metadata": {},
   "outputs": [],
   "source": [
    "# Begin..."
   ]
  },
  {
   "cell_type": "code",
   "execution_count": 4,
   "id": "49ce9070",
   "metadata": {},
   "outputs": [],
   "source": [
    "df = pd.read_csv(\"reviews.csv\")"
   ]
  },
  {
   "cell_type": "code",
   "execution_count": 5,
   "id": "698dca9a",
   "metadata": {},
   "outputs": [],
   "source": [
    "df.drop(['unix_timestamp_created', 'unix_timestamp_updated'], axis=1, inplace=True)\n",
    "df.dropna(inplace=True)"
   ]
  },
  {
   "cell_type": "code",
   "execution_count": 6,
   "id": "4a7d6b6d",
   "metadata": {},
   "outputs": [],
   "source": [
    "df.rename(columns={'weighted_vote_score': 'helpful_score', 'voted_up': 'is_recommended', 'votes_up': 'upvotes'}, inplace=True)"
   ]
  },
  {
   "cell_type": "code",
   "execution_count": 7,
   "id": "eefd5073",
   "metadata": {
    "scrolled": true
   },
   "outputs": [
    {
     "name": "stdout",
     "output_type": "stream",
     "text": [
      "<class 'pandas.core.frame.DataFrame'>\n",
      "Int64Index: 1452657 entries, 0 to 1455441\n",
      "Data columns (total 11 columns):\n",
      " #   Column              Non-Null Count    Dtype  \n",
      "---  ------              --------------    -----  \n",
      " 0   steamid             1452657 non-null  int64  \n",
      " 1   appid               1452657 non-null  int64  \n",
      " 2   is_recommended      1452657 non-null  bool   \n",
      " 3   upvotes             1452657 non-null  int64  \n",
      " 4   votes_funny         1452657 non-null  int64  \n",
      " 5   helpful_score       1452657 non-null  float64\n",
      " 6   playtime_forever    1452657 non-null  int64  \n",
      " 7   playtime_at_review  1452657 non-null  int64  \n",
      " 8   num_games_owned     1452657 non-null  int64  \n",
      " 9   num_reviews         1452657 non-null  int64  \n",
      " 10  review              1452657 non-null  object \n",
      "dtypes: bool(1), float64(1), int64(8), object(1)\n",
      "memory usage: 123.3+ MB\n"
     ]
    }
   ],
   "source": [
    "df.info()"
   ]
  },
  {
   "cell_type": "markdown",
   "id": "3a6d0d00",
   "metadata": {},
   "source": [
    "# Gavin"
   ]
  },
  {
   "cell_type": "code",
   "execution_count": 8,
   "id": "1c971af2",
   "metadata": {},
   "outputs": [
    {
     "data": {
      "text/html": [
       "<div>\n",
       "<style scoped>\n",
       "    .dataframe tbody tr th:only-of-type {\n",
       "        vertical-align: middle;\n",
       "    }\n",
       "\n",
       "    .dataframe tbody tr th {\n",
       "        vertical-align: top;\n",
       "    }\n",
       "\n",
       "    .dataframe thead th {\n",
       "        text-align: right;\n",
       "    }\n",
       "</style>\n",
       "<table border=\"1\" class=\"dataframe\">\n",
       "  <thead>\n",
       "    <tr style=\"text-align: right;\">\n",
       "      <th></th>\n",
       "      <th>steamid</th>\n",
       "      <th>appid</th>\n",
       "      <th>is_recommended</th>\n",
       "      <th>upvotes</th>\n",
       "      <th>votes_funny</th>\n",
       "      <th>helpful_score</th>\n",
       "      <th>playtime_forever</th>\n",
       "      <th>playtime_at_review</th>\n",
       "      <th>num_games_owned</th>\n",
       "      <th>num_reviews</th>\n",
       "      <th>review</th>\n",
       "    </tr>\n",
       "  </thead>\n",
       "  <tbody>\n",
       "    <tr>\n",
       "      <th>0</th>\n",
       "      <td>76561198795470246</td>\n",
       "      <td>599080</td>\n",
       "      <td>True</td>\n",
       "      <td>1</td>\n",
       "      <td>0</td>\n",
       "      <td>0.52381</td>\n",
       "      <td>400</td>\n",
       "      <td>400</td>\n",
       "      <td>230</td>\n",
       "      <td>2</td>\n",
       "      <td>Minus the quiet communication (other players s...</td>\n",
       "    </tr>\n",
       "    <tr>\n",
       "      <th>1</th>\n",
       "      <td>76561199026616351</td>\n",
       "      <td>599080</td>\n",
       "      <td>True</td>\n",
       "      <td>0</td>\n",
       "      <td>0</td>\n",
       "      <td>0.00000</td>\n",
       "      <td>745</td>\n",
       "      <td>192</td>\n",
       "      <td>19</td>\n",
       "      <td>8</td>\n",
       "      <td>yeah.</td>\n",
       "    </tr>\n",
       "    <tr>\n",
       "      <th>2</th>\n",
       "      <td>76561198259829110</td>\n",
       "      <td>599080</td>\n",
       "      <td>True</td>\n",
       "      <td>0</td>\n",
       "      <td>0</td>\n",
       "      <td>0.00000</td>\n",
       "      <td>1572</td>\n",
       "      <td>1572</td>\n",
       "      <td>50</td>\n",
       "      <td>4</td>\n",
       "      <td>Playing this game was the most fun I have ever...</td>\n",
       "    </tr>\n",
       "    <tr>\n",
       "      <th>3</th>\n",
       "      <td>76561198123742442</td>\n",
       "      <td>599080</td>\n",
       "      <td>True</td>\n",
       "      <td>0</td>\n",
       "      <td>0</td>\n",
       "      <td>0.00000</td>\n",
       "      <td>3684</td>\n",
       "      <td>2001</td>\n",
       "      <td>119</td>\n",
       "      <td>1</td>\n",
       "      <td>I love the interactive lore and story telling</td>\n",
       "    </tr>\n",
       "    <tr>\n",
       "      <th>4</th>\n",
       "      <td>76561198998908891</td>\n",
       "      <td>599080</td>\n",
       "      <td>True</td>\n",
       "      <td>0</td>\n",
       "      <td>0</td>\n",
       "      <td>0.00000</td>\n",
       "      <td>249</td>\n",
       "      <td>249</td>\n",
       "      <td>31</td>\n",
       "      <td>10</td>\n",
       "      <td>gg</td>\n",
       "    </tr>\n",
       "  </tbody>\n",
       "</table>\n",
       "</div>"
      ],
      "text/plain": [
       "             steamid   appid  is_recommended  upvotes  votes_funny  \\\n",
       "0  76561198795470246  599080            True        1            0   \n",
       "1  76561199026616351  599080            True        0            0   \n",
       "2  76561198259829110  599080            True        0            0   \n",
       "3  76561198123742442  599080            True        0            0   \n",
       "4  76561198998908891  599080            True        0            0   \n",
       "\n",
       "   helpful_score  playtime_forever  playtime_at_review  num_games_owned  \\\n",
       "0        0.52381               400                 400              230   \n",
       "1        0.00000               745                 192               19   \n",
       "2        0.00000              1572                1572               50   \n",
       "3        0.00000              3684                2001              119   \n",
       "4        0.00000               249                 249               31   \n",
       "\n",
       "   num_reviews                                             review  \n",
       "0            2  Minus the quiet communication (other players s...  \n",
       "1            8                                              yeah.  \n",
       "2            4  Playing this game was the most fun I have ever...  \n",
       "3            1      I love the interactive lore and story telling  \n",
       "4           10                                                 gg  "
      ]
     },
     "execution_count": 8,
     "metadata": {},
     "output_type": "execute_result"
    }
   ],
   "source": [
    "# Clustering\n",
    "df.head()"
   ]
  },
  {
   "cell_type": "code",
   "execution_count": 21,
   "id": "5296de4f",
   "metadata": {
    "scrolled": true
   },
   "outputs": [],
   "source": [
    "# Sampling of the OG dataframe for use in the clustering\n",
    "df2 = df[[\"votes_funny\", \"helpful_score\"]]\n",
    "data = df2.sample(n=5000, random_state = 1, replace = False)\n",
    "\n",
    "# Filtering the dataframe to avoid outliers in the final product\n",
    "q_lowFunny = data[\"votes_funny\"].quantile(0.20)\n",
    "q_hiFunny  = data[\"votes_funny\"].quantile(0.80)\n",
    "\n",
    "# Filtering cont'd\n",
    "q_lowHelpful = data[\"helpful_score\"].quantile(0.20)\n",
    "q_hiHelpful  = data[\"helpful_score\"].quantile(0.80)\n",
    "\n",
    "# Final filtering section and creation of filtered df\n",
    "df_filtered = data[(data[\"votes_funny\"] < q_hiFunny) & (data[\"votes_funny\"] > q_lowFunny)]\n",
    "df_filtered = data[(data[\"helpful_score\"] < q_hiHelpful) & (data[\"helpful_score\"] > q_lowHelpful)]\n",
    "\n",
    "# Define number of clusters\n",
    "num_clusters = 4\n",
    " \n",
    "# Creating instance of PCA and transforming the data from df_filtered to fit PCA\n",
    "pca = PCA()\n",
    "data_pca = pca.fit_transform(df_filtered)\n",
    "\n",
    "# Creating the PC columns within pca_df for use in clustering\n",
    "pca_df = pd.DataFrame(data_pca,columns=['PC1','PC2'])\n",
    "\n",
    "# Create and fit the KMeans model\n",
    "km = KMeans(n_clusters=num_clusters)\n",
    "km.fit(df_filtered)\n",
    " \n",
    "# Predict the target variable\n",
    "pred=km.predict(df_filtered)"
   ]
  },
  {
   "cell_type": "code",
   "execution_count": 22,
   "id": "c63debf4",
   "metadata": {
    "scrolled": true
   },
   "outputs": [
    {
     "data": {
      "image/png": "[encoded data removed]",
      "text/plain": [
       "<Figure size 1080x360 with 1 Axes>"
      ]
     },
     "metadata": {
      "needs_background": "light"
     },
     "output_type": "display_data"
    }
   ],
   "source": [
    "# Plot the Clusters\n",
    "plt.figure(figsize=(15,5))\n",
    "plt.scatter(pca_df.PC1, pca_df.PC2, c=pred, cmap = 'Dark2')\n",
    "# Set title of the plot \n",
    "plt.title('Steam Reviews')\n",
    "# Set x-axis label\n",
    "plt.xlabel('Votes Funny')\n",
    "# Set y-axis label\n",
    "plt.ylabel('Helpful Score')\n",
    "# Display the plot\n",
    "plt.show()"
   ]
  },
  {
   "cell_type": "code",
   "execution_count": null,
   "id": "a964f2ae",
   "metadata": {},
   "outputs": [],
   "source": []
  }
 ],
 "metadata": {
  "kernelspec": {
   "display_name": "Python 3 (ipykernel)",
   "language": "python",
   "name": "python3"
  },
  "language_info": {
   "codemirror_mode": {
    "name": "ipython",
    "version": 3
   },
   "file_extension": ".py",
   "mimetype": "text/x-python",
   "name": "python",
   "nbconvert_exporter": "python",
   "pygments_lexer": "ipython3",
   "version": "3.9.7"
  }
 },
 "nbformat": 4,
 "nbformat_minor": 5
}

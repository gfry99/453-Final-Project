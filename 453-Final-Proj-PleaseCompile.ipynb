{
 "cells": [
  {
   "cell_type": "markdown",
   "id": "7abf252b",
   "metadata": {},
   "source": [
    "# CSCI 453 \"Please Compile\" Final Project"
   ]
  },
  {
   "cell_type": "markdown",
   "id": "cd10406e",
   "metadata": {},
   "source": [
    "### Logan Zug, Ben Alrbright, Gavin Fry"
   ]
  },
  {
   "cell_type": "code",
   "execution_count": 1,
   "id": "962b370f",
   "metadata": {},
   "outputs": [],
   "source": [
    "# Start with all of the includes we'll need for the project..."
   ]
  },
  {
   "cell_type": "code",
   "execution_count": 1,
   "id": "d57e340a",
   "metadata": {},
   "outputs": [],
   "source": [
    "import pandas as pd\n",
    "import numpy as np"
   ]
  },
  {
   "cell_type": "code",
   "execution_count": 2,
   "id": "fa045af9",
   "metadata": {},
   "outputs": [],
   "source": [
    "# Begin..."
   ]
  },
  {
   "cell_type": "code",
   "execution_count": 3,
   "id": "49ce9070",
   "metadata": {},
   "outputs": [],
   "source": [
    "df = pd.read_csv(\"reviews.csv\")"
   ]
  },
  {
   "cell_type": "code",
   "execution_count": 4,
   "id": "698dca9a",
   "metadata": {},
   "outputs": [],
   "source": [
    "df.drop(['unix_timestamp_created', 'unix_timestamp_updated'], axis=1, inplace=True)\n",
    "df.dropna(inplace=True)"
   ]
  },
  {
   "cell_type": "code",
   "execution_count": 5,
   "id": "4a7d6b6d",
   "metadata": {},
   "outputs": [],
   "source": [
    "df.rename(columns={'weighted_vote_score': 'helpful_score', 'voted_up': 'is_recommended', 'votes_up': 'upvotes'}, inplace=True)"
   ]
  },
  {
   "cell_type": "code",
   "execution_count": 6,
   "id": "eefd5073",
   "metadata": {},
   "outputs": [
    {
     "name": "stdout",
     "output_type": "stream",
     "text": [
      "<class 'pandas.core.frame.DataFrame'>\n",
      "Int64Index: 1452657 entries, 0 to 1455441\n",
      "Data columns (total 11 columns):\n",
      " #   Column              Non-Null Count    Dtype  \n",
      "---  ------              --------------    -----  \n",
      " 0   steamid             1452657 non-null  int64  \n",
      " 1   appid               1452657 non-null  int64  \n",
      " 2   is_recommended      1452657 non-null  bool   \n",
      " 3   upvotes             1452657 non-null  int64  \n",
      " 4   votes_funny         1452657 non-null  int64  \n",
      " 5   helpful_score       1452657 non-null  float64\n",
      " 6   playtime_forever    1452657 non-null  int64  \n",
      " 7   playtime_at_review  1452657 non-null  int64  \n",
      " 8   num_games_owned     1452657 non-null  int64  \n",
      " 9   num_reviews         1452657 non-null  int64  \n",
      " 10  review              1452657 non-null  object \n",
      "dtypes: bool(1), float64(1), int64(8), object(1)\n",
      "memory usage: 123.3+ MB\n"
     ]
    }
   ],
   "source": [
    "df.info()"
   ]
  },
  {
   "cell_type": "code",
   "execution_count": null,
   "id": "1acb213d",
   "metadata": {},
   "outputs": [],
   "source": []
  }
 ],
 "metadata": {
  "kernelspec": {
   "display_name": "Python 3 (ipykernel)",
   "language": "python",
   "name": "python3"
  },
  "language_info": {
   "codemirror_mode": {
    "name": "ipython",
    "version": 3
   },
   "file_extension": ".py",
   "mimetype": "text/x-python",
   "name": "python",
   "nbconvert_exporter": "python",
   "pygments_lexer": "ipython3",
   "version": "3.9.7"
  }
 },
 "nbformat": 4,
 "nbformat_minor": 5
}

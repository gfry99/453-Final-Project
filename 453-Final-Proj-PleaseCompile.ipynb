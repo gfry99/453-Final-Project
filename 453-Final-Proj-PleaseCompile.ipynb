{
 "cells": [
  {
   "cell_type": "markdown",
   "id": "7abf252b",
   "metadata": {},
   "source": [
    "# CSCI 453 \"Please Compile\" Final Project"
   ]
  },
  {
   "cell_type": "markdown",
   "id": "cd10406e",
   "metadata": {},
   "source": [
    "### Logan Zug, Ben Alrbright, Gavin Fry"
   ]
  },
  {
   "cell_type": "code",
   "execution_count": 51,
   "id": "962b370f",
   "metadata": {},
   "outputs": [],
   "source": [
    "# Start with all of the includes we'll need for the project..."
   ]
  },
  {
   "cell_type": "code",
   "execution_count": null,
   "id": "d57e340a",
   "metadata": {},
   "outputs": [],
   "source": [
    "import pandas as pd\n",
    "import numpy as np\n",
    "import matplotlib.pyplot as plt\n",
    "from sklearn.cluster import KMeans\n",
    "from sklearn.decomposition import PCA"
   ]
  },
  {
   "cell_type": "code",
   "execution_count": null,
   "id": "fa045af9",
   "metadata": {},
   "outputs": [],
   "source": [
    "# Begin..."
   ]
  },
  {
   "cell_type": "code",
   "execution_count": null,
   "id": "49ce9070",
   "metadata": {},
   "outputs": [],
   "source": [
    "df = pd.read_csv(\"reviews.csv\")"
   ]
  },
  {
   "cell_type": "code",
   "execution_count": null,
   "id": "698dca9a",
   "metadata": {},
   "outputs": [],
   "source": [
    "df.drop(['unix_timestamp_created', 'unix_timestamp_updated'], axis=1, inplace=True)\n",
    "df.dropna(inplace=True)"
   ]
  },
  {
   "cell_type": "code",
   "execution_count": null,
   "id": "4a7d6b6d",
   "metadata": {},
   "outputs": [],
   "source": [
    "df.rename(columns={'weighted_vote_score': 'helpful_score', 'voted_up': 'is_recommended', 'votes_up': 'upvotes'}, inplace=True)"
   ]
  },
  {
   "cell_type": "code",
   "execution_count": 57,
   "id": "eefd5073",
   "metadata": {
    "scrolled": true
   },
   "outputs": [
    {
     "name": "stdout",
     "output_type": "stream",
     "text": [
      "<class 'pandas.core.frame.DataFrame'>\n",
      "Int64Index: 1452657 entries, 0 to 1455441\n",
      "Data columns (total 11 columns):\n",
      " #   Column              Non-Null Count    Dtype  \n",
      "---  ------              --------------    -----  \n",
      " 0   steamid             1452657 non-null  int64  \n",
      " 1   appid               1452657 non-null  int64  \n",
      " 2   is_recommended      1452657 non-null  bool   \n",
      " 3   upvotes             1452657 non-null  int64  \n",
      " 4   votes_funny         1452657 non-null  int64  \n",
      " 5   helpful_score       1452657 non-null  float64\n",
      " 6   playtime_forever    1452657 non-null  int64  \n",
      " 7   playtime_at_review  1452657 non-null  int64  \n",
      " 8   num_games_owned     1452657 non-null  int64  \n",
      " 9   num_reviews         1452657 non-null  int64  \n",
      " 10  review              1452657 non-null  object \n",
      "dtypes: bool(1), float64(1), int64(8), object(1)\n",
      "memory usage: 123.3+ MB\n"
     ]
    }
   ],
   "source": [
    "df.info()"
   ]
  },
  {
   "cell_type": "markdown",
   "id": "3a6d0d00",
   "metadata": {},
   "source": [
    "# Gavin"
   ]
  },
  {
   "cell_type": "code",
   "execution_count": 69,
   "id": "1c971af2",
   "metadata": {},
   "outputs": [
    {
     "data": {
      "text/html": [
       "<div>\n",
       "<style scoped>\n",
       "    .dataframe tbody tr th:only-of-type {\n",
       "        vertical-align: middle;\n",
       "    }\n",
       "\n",
       "    .dataframe tbody tr th {\n",
       "        vertical-align: top;\n",
       "    }\n",
       "\n",
       "    .dataframe thead th {\n",
       "        text-align: right;\n",
       "    }\n",
       "</style>\n",
       "<table border=\"1\" class=\"dataframe\">\n",
       "  <thead>\n",
       "    <tr style=\"text-align: right;\">\n",
       "      <th></th>\n",
       "      <th>steamid</th>\n",
       "      <th>appid</th>\n",
       "      <th>is_recommended</th>\n",
       "      <th>upvotes</th>\n",
       "      <th>votes_funny</th>\n",
       "      <th>helpful_score</th>\n",
       "      <th>playtime_forever</th>\n",
       "      <th>playtime_at_review</th>\n",
       "      <th>num_games_owned</th>\n",
       "      <th>num_reviews</th>\n",
       "      <th>review</th>\n",
       "      <th>PC1</th>\n",
       "      <th>PC2</th>\n",
       "    </tr>\n",
       "  </thead>\n",
       "  <tbody>\n",
       "    <tr>\n",
       "      <th>0</th>\n",
       "      <td>76561198795470246</td>\n",
       "      <td>599080</td>\n",
       "      <td>True</td>\n",
       "      <td>1</td>\n",
       "      <td>0</td>\n",
       "      <td>0.52381</td>\n",
       "      <td>400</td>\n",
       "      <td>400</td>\n",
       "      <td>230</td>\n",
       "      <td>2</td>\n",
       "      <td>Minus the quiet communication (other players s...</td>\n",
       "      <td>-2306.205</td>\n",
       "      <td>-0.185831</td>\n",
       "    </tr>\n",
       "    <tr>\n",
       "      <th>1</th>\n",
       "      <td>76561199026616351</td>\n",
       "      <td>599080</td>\n",
       "      <td>True</td>\n",
       "      <td>0</td>\n",
       "      <td>0</td>\n",
       "      <td>0.00000</td>\n",
       "      <td>745</td>\n",
       "      <td>192</td>\n",
       "      <td>19</td>\n",
       "      <td>8</td>\n",
       "      <td>yeah.</td>\n",
       "      <td>-771.205</td>\n",
       "      <td>-0.185077</td>\n",
       "    </tr>\n",
       "    <tr>\n",
       "      <th>2</th>\n",
       "      <td>76561198259829110</td>\n",
       "      <td>599080</td>\n",
       "      <td>True</td>\n",
       "      <td>0</td>\n",
       "      <td>0</td>\n",
       "      <td>0.00000</td>\n",
       "      <td>1572</td>\n",
       "      <td>1572</td>\n",
       "      <td>50</td>\n",
       "      <td>4</td>\n",
       "      <td>Playing this game was the most fun I have ever...</td>\n",
       "      <td>-1864.205</td>\n",
       "      <td>0.338196</td>\n",
       "    </tr>\n",
       "    <tr>\n",
       "      <th>3</th>\n",
       "      <td>76561198123742442</td>\n",
       "      <td>599080</td>\n",
       "      <td>True</td>\n",
       "      <td>0</td>\n",
       "      <td>0</td>\n",
       "      <td>0.00000</td>\n",
       "      <td>3684</td>\n",
       "      <td>2001</td>\n",
       "      <td>119</td>\n",
       "      <td>1</td>\n",
       "      <td>I love the interactive lore and story telling</td>\n",
       "      <td>1361.795</td>\n",
       "      <td>-0.184031</td>\n",
       "    </tr>\n",
       "    <tr>\n",
       "      <th>4</th>\n",
       "      <td>76561198998908891</td>\n",
       "      <td>599080</td>\n",
       "      <td>True</td>\n",
       "      <td>0</td>\n",
       "      <td>0</td>\n",
       "      <td>0.00000</td>\n",
       "      <td>249</td>\n",
       "      <td>249</td>\n",
       "      <td>31</td>\n",
       "      <td>10</td>\n",
       "      <td>gg</td>\n",
       "      <td>-2257.205</td>\n",
       "      <td>0.338003</td>\n",
       "    </tr>\n",
       "  </tbody>\n",
       "</table>\n",
       "</div>"
      ],
      "text/plain": [
       "             steamid   appid  is_recommended  upvotes  votes_funny  \\\n",
       "0  76561198795470246  599080            True        1            0   \n",
       "1  76561199026616351  599080            True        0            0   \n",
       "2  76561198259829110  599080            True        0            0   \n",
       "3  76561198123742442  599080            True        0            0   \n",
       "4  76561198998908891  599080            True        0            0   \n",
       "\n",
       "   helpful_score  playtime_forever  playtime_at_review  num_games_owned  \\\n",
       "0        0.52381               400                 400              230   \n",
       "1        0.00000               745                 192               19   \n",
       "2        0.00000              1572                1572               50   \n",
       "3        0.00000              3684                2001              119   \n",
       "4        0.00000               249                 249               31   \n",
       "\n",
       "   num_reviews                                             review       PC1  \\\n",
       "0            2  Minus the quiet communication (other players s... -2306.205   \n",
       "1            8                                              yeah.  -771.205   \n",
       "2            4  Playing this game was the most fun I have ever... -1864.205   \n",
       "3            1      I love the interactive lore and story telling  1361.795   \n",
       "4           10                                                 gg -2257.205   \n",
       "\n",
       "        PC2  \n",
       "0 -0.185831  \n",
       "1 -0.185077  \n",
       "2  0.338196  \n",
       "3 -0.184031  \n",
       "4  0.338003  "
      ]
     },
     "execution_count": 69,
     "metadata": {},
     "output_type": "execute_result"
    }
   ],
   "source": [
    "# Clustering\n",
    "df.head()"
   ]
  },
  {
   "cell_type": "code",
   "execution_count": 77,
   "id": "5296de4f",
   "metadata": {},
   "outputs": [
    {
     "name": "stderr",
     "output_type": "stream",
     "text": [
      "C:\\Users\\knght\\AppData\\Local\\Temp/ipykernel_1724/2022193170.py:11: FutureWarning: Passing 'suffixes' which cause duplicate columns {'PC2_x', 'PC1_x'} in the result is deprecated and will raise a MergeError in a future version.\n",
      "  df = pd.merge(df, pca_df, right_index=True, left_index=True)\n"
     ]
    },
    {
     "data": {
      "image/png": "[encoded data removed]",
      "text/plain": [
       "<Figure size 432x288 with 1 Axes>"
      ]
     },
     "metadata": {
      "needs_background": "light"
     },
     "output_type": "display_data"
    }
   ],
   "source": [
    "df2 = df[[\"votes_funny\", \"helpful_score\"]]\n",
    "data = df2.sample(n=1000, replace = True)\n",
    "\n",
    "# Define number of clusters\n",
    "num_clusters = 5\n",
    " \n",
    "pca = PCA()\n",
    "data_pca = pca.fit_transform(data)\n",
    "\n",
    "pca_df = pd.DataFrame(data_pca,columns=['PC1','PC2'])\n",
    "df = pd.merge(df, pca_df, right_index=True, left_index=True)\n",
    "    \n",
    "# Create and fit the KMeans model\n",
    "km = KMeans(n_clusters=num_clusters)\n",
    "km.fit(data)\n",
    " \n",
    "# Predict the target variable\n",
    "pred=km.predict(data)\n",
    "\n",
    "# Plot the Clusters\n",
    "plt.scatter(pca_df.PC1, pca_df.PC2, c=pred)\n",
    "# Set title of the plot \n",
    "plt.title('Steam Reviews')\n",
    "# Set x-axis label\n",
    "plt.xlabel('Votes Funny')\n",
    "# Set y-axis label\n",
    "plt.ylabel('Helpful Score')\n",
    "# Display the plot\n",
    "plt.show()"
   ]
  },
  {
   "cell_type": "code",
   "execution_count": null,
   "id": "1dd7ba34",
   "metadata": {},
   "outputs": [],
   "source": []
  }
 ],
 "metadata": {
  "kernelspec": {
   "display_name": "Python 3 (ipykernel)",
   "language": "python",
   "name": "python3"
  },
  "language_info": {
   "codemirror_mode": {
    "name": "ipython",
    "version": 3
   },
   "file_extension": ".py",
   "mimetype": "text/x-python",
   "name": "python",
   "nbconvert_exporter": "python",
   "pygments_lexer": "ipython3",
   "version": "3.9.7"
  }
 },
 "nbformat": 4,
 "nbformat_minor": 5
}
